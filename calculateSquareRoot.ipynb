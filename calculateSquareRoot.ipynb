{
 "cells": [
  {
   "cell_type": "markdown",
   "metadata": {},
   "source": [
    "# CALCULATE THE SQUARE ROOT OF A NUMBER\n",
    "\n",
    "This code is designed by Burak Satar\n",
    "\n",
    "## PART 1 - The Main Function"
   ]
  },
  {
   "cell_type": "code",
   "execution_count": 1,
   "metadata": {},
   "outputs": [],
   "source": [
    "from collections import Counter\n",
    "import random\n",
    "\n",
    "def calculateSquare(number):\n",
    "    storeNumbers = []\n",
    "    result = []\n",
    "\n",
    "    # Divide by starting 2. When there is a remainder, increase the divider with 1. \n",
    "    # Do it the same logic, until we reach 1.\n",
    "    for i in range(2,int(number+1)):\n",
    "        if (number % i == 0):\n",
    "            while(number % i == 0):\n",
    "                number = number/i \n",
    "                #print('Since we divide it by {0} the number is now {1}'.format(i, int(number)))\n",
    "                storeNumbers.append(i)\n",
    "\n",
    "    # We are counting the numbers to understand how many we have from which number.\n",
    "    C = Counter(storeNumbers)\n",
    "    root = []\n",
    "    times = []\n",
    "    root_num = []\n",
    "    square_num = []\n",
    "    times_num = []\n",
    "\n",
    "    for (k,v) in C.items():\n",
    "        root.append(k)\n",
    "        times.append(v)\n",
    "        \n",
    "    #print('\\nThe number consists of those numbers: {}'.format(storeNumbers))\n",
    "\n",
    "    #print('Number has: ')\n",
    "\n",
    "    #for each in range(len(root)):\n",
    "        #print('{0} times {1} '.format(times[each], root[each]))\n",
    "\n",
    "    #print('\\nThe result will be found multiplying those numbers:')   \n",
    "    for each in range( len(root) ):\n",
    "        if ( times[each] % 2 == 1 ):\n",
    "            #print( '-->  Square of ' + str(int(root[each])) )\n",
    "            square_num.append( root[each])\n",
    "            \n",
    "            if ( times[each] != 1 ):\n",
    "                #print('-->  {0} times {1} '.format(int(times[each]/2), root[each]))\n",
    "                root_num.append( root[each] )\n",
    "                times_num.append( int(times[each]/2) ) \n",
    "\n",
    "        else:\n",
    "            #print('--> {0} times {1} '.format( int(times[each]/2), root[each] ) )\n",
    "            root_num.append( root[each] )\n",
    "            times_num.append( int(times[each]/2) )\n",
    "            \n",
    "    if( not square_num ):\n",
    "        #print('dsadsadsal')\n",
    "        square_num.append( 1 )\n",
    "        \n",
    "    if( not root_num ):\n",
    "        #print('dsadsadsal')\n",
    "        root_num.append( 1 )\n",
    "        \n",
    "    if( not times_num ):\n",
    "        #print('dsadsadsal')\n",
    "        times_num.append( 1 )\n",
    "    \n",
    "    final_root = 1\n",
    "    \n",
    "    final_square=1\n",
    "    for i in range(len(square_num)):\n",
    "        final_square = final_square * square_num[i]\n",
    "        \n",
    "    final_square = 1\n",
    "    for i in range(len(square_num)):\n",
    "        final_square = final_square * square_num[i]\n",
    "\n",
    "    for i in range(len(times_num)):\n",
    "        for k in range(times_num[i]):\n",
    "            final_root = final_root * root_num[i]\n",
    "    \n",
    "    return final_root, final_square"
   ]
  },
  {
   "cell_type": "code",
   "execution_count": 2,
   "metadata": {},
   "outputs": [
    {
     "name": "stdout",
     "output_type": "stream",
     "text": [
      "\n",
      "The result is : 1  x (square of 321567 ) \n"
     ]
    }
   ],
   "source": [
    "find_number = 321567\n",
    "final_root, square = calculateSquare(find_number)\n",
    "\n",
    "if square == 1:\n",
    "    print('\\nThe result is : {0}'.format( final_root) )\n",
    "else:\n",
    "    print('\\nThe result is : {0}  x (square of {1} ) '.format( final_root, square ) )\n",
    "\n",
    "find_decimal = square"
   ]
  },
  {
   "cell_type": "markdown",
   "metadata": {},
   "source": [
    "In next part, we will calculate the exact value of the number in square root"
   ]
  },
  {
   "cell_type": "markdown",
   "metadata": {},
   "source": [
    "# Part 2 - New Addition, CALCULATE DECIMAL\n",
    "\n",
    "Now, we will use the same function to find the nearest numbers that have exact square"
   ]
  },
  {
   "cell_type": "code",
   "execution_count": 3,
   "metadata": {},
   "outputs": [
    {
     "name": "stdout",
     "output_type": "stream",
     "text": [
      "Square part of the number is between 567 and 568 range\n"
     ]
    }
   ],
   "source": [
    "low_square = []\n",
    "high_square = []\n",
    "# Find the numbers\n",
    "# high\n",
    "for each in range(find_decimal,find_decimal + 10000):\n",
    "    _, square = calculateSquare(each)\n",
    "    \n",
    "    if(square == 1):\n",
    "        high_square = each\n",
    "        break\n",
    "\n",
    "# low        \n",
    "for each in range(find_decimal-1,1,-1):\n",
    "    root, square = calculateSquare(each)\n",
    "    \n",
    "    if(square == 1):\n",
    "        low_square = each\n",
    "        break\n",
    "high_root, _ = calculateSquare(high_square)\n",
    "low_root = high_root - 1\n",
    "\n",
    "# Please omit the printouts above this one\n",
    "print('Square part of the number is between {0} and {1} range'.format(low_root, high_root))"
   ]
  },
  {
   "cell_type": "code",
   "execution_count": 4,
   "metadata": {},
   "outputs": [
    {
     "name": "stdout",
     "output_type": "stream",
     "text": [
      "Root is close to its Low root 567\n"
     ]
    }
   ],
   "source": [
    "k=0\n",
    "if (find_decimal - low_root*low_root) < (high_root * high_root - find_decimal):\n",
    "    print('Root is close to its Low root {}'.format(low_root))\n",
    "    k=0\n",
    "else:\n",
    "    print('Root is close to its High root {}'.format(high_root))\n",
    "    k=1"
   ]
  },
  {
   "cell_type": "markdown",
   "metadata": {},
   "source": [
    "Now we will find that number is close to which side. Then based on that knowledge we will generate a random number. This approach will save time."
   ]
  },
  {
   "cell_type": "code",
   "execution_count": 5,
   "metadata": {},
   "outputs": [],
   "source": [
    "def random_depends_on_closeness(k):\n",
    "    if(k==0):\n",
    "        # if root is close its low root, generate a number in range of 0 - 0.5\n",
    "        out = random.uniform(0, 0.5)\n",
    "    else:\n",
    "        # if root is close its high root, generate a number in range of 0.5 - 1\n",
    "        out = random.uniform(0.5, 1)\n",
    "        \n",
    "    return out"
   ]
  },
  {
   "cell_type": "markdown",
   "metadata": {},
   "source": [
    "Using these method, we will always check how much we close to the aimed number. Then update it, with related direction."
   ]
  },
  {
   "cell_type": "code",
   "execution_count": 6,
   "metadata": {
    "collapsed": true
   },
   "outputs": [],
   "source": [
    "def updateNumber(estimate_digit):\n",
    "    \n",
    "    # add estimated digit with low root\n",
    "    estimate_number = estimate_digit + low_root\n",
    "    estimate_number = estimate_number * estimate_number\n",
    "    \n",
    "    for i in range(1,10000):\n",
    "        if(estimate_number < find_decimal):\n",
    "            estimate_digit = estimate_digit + 0.0001\n",
    "        elif(estimate_number > find_decimal):\n",
    "            estimate_digit = estimate_digit - 0.0001\n",
    "        estimate_number = estimate_digit + low_root\n",
    "        estimate_number = estimate_number * estimate_number\n",
    "        #print(estimate_digit)\n",
    "    \n",
    "    return estimate_digit"
   ]
  },
  {
   "cell_type": "code",
   "execution_count": 7,
   "metadata": {},
   "outputs": [],
   "source": [
    "def estimateNumber():\n",
    "\n",
    "    estimate_digit = random_depends_on_closeness(k)\n",
    "    \n",
    "    a= updateNumber(estimate_digit)\n",
    "    \n",
    "    new_estimate = a + low_root\n",
    "    return new_estimate"
   ]
  },
  {
   "cell_type": "code",
   "execution_count": 8,
   "metadata": {},
   "outputs": [
    {
     "name": "stdout",
     "output_type": "stream",
     "text": [
      "FINAL RESULT 1 X 567.0687525382896 = 567.0687525382896\n"
     ]
    }
   ],
   "source": [
    "final_result = estimateNumber()\n",
    "print('FINAL RESULT {0} X {1} = {2}'.format(final_root, final_result, final_root*final_result))"
   ]
  }
 ],
 "metadata": {
  "kernelspec": {
   "display_name": "Python 3",
   "language": "python",
   "name": "python3"
  },
  "language_info": {
   "codemirror_mode": {
    "name": "ipython",
    "version": 3
   },
   "file_extension": ".py",
   "mimetype": "text/x-python",
   "name": "python",
   "nbconvert_exporter": "python",
   "pygments_lexer": "ipython3",
   "version": "3.6.1"
  }
 },
 "nbformat": 4,
 "nbformat_minor": 2
}
