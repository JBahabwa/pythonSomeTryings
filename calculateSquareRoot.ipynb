{
 "cells": [
  {
   "cell_type": "markdown",
   "metadata": {},
   "source": [
    "# Calculate the root of a number \n",
    "\n",
    "This code is designed by Burak Satar\n",
    "\n",
    "## Load the number\n",
    "\n",
    "### Example - 1"
   ]
  },
  {
   "cell_type": "code",
   "execution_count": 1,
   "metadata": {
    "collapsed": true
   },
   "outputs": [],
   "source": [
    "number = 32000\n",
    "storeNumbers = []\n",
    "result = []"
   ]
  },
  {
   "cell_type": "markdown",
   "metadata": {},
   "source": [
    "Divide by starting 2. When there is a remainder, increase the divider with 1. Do it the same logic, until we reach 1."
   ]
  },
  {
   "cell_type": "code",
   "execution_count": 2,
   "metadata": {},
   "outputs": [
    {
     "name": "stdout",
     "output_type": "stream",
     "text": [
      "Since we divide it by 2 the number is now 16000\n",
      "Since we divide it by 2 the number is now 8000\n",
      "Since we divide it by 2 the number is now 4000\n",
      "Since we divide it by 2 the number is now 2000\n",
      "Since we divide it by 2 the number is now 1000\n",
      "Since we divide it by 2 the number is now 500\n",
      "Since we divide it by 2 the number is now 250\n",
      "Since we divide it by 2 the number is now 125\n",
      "Since we divide it by 5 the number is now 25\n",
      "Since we divide it by 5 the number is now 5\n",
      "Since we divide it by 5 the number is now 1\n"
     ]
    }
   ],
   "source": [
    "for i in range(2,int(number)):\n",
    "    if (number % i == 0):\n",
    "        while(number % i == 0):\n",
    "            number = number/i \n",
    "            print('Since we divide it by {0} the number is now {1}'.format(i, int(number)))\n",
    "            storeNumbers.append(i)"
   ]
  },
  {
   "cell_type": "markdown",
   "metadata": {},
   "source": [
    "### Counter\n",
    "\n",
    "We are counting the numbers to understand how many we have from which number."
   ]
  },
  {
   "cell_type": "code",
   "execution_count": 3,
   "metadata": {
    "collapsed": true
   },
   "outputs": [],
   "source": [
    "from collections import Counter\n",
    "\n",
    "C = Counter(storeNumbers)\n",
    "\n",
    "root = []\n",
    "times = []\n",
    "\n",
    "for (k,v) in C.items():\n",
    "    root.append(k)\n",
    "    times.append(v)\n"
   ]
  },
  {
   "cell_type": "code",
   "execution_count": 4,
   "metadata": {},
   "outputs": [
    {
     "name": "stdout",
     "output_type": "stream",
     "text": [
      "The number consists of those numbers: [2, 2, 2, 2, 2, 2, 2, 2, 5, 5, 5]\n"
     ]
    }
   ],
   "source": [
    "print('The number consists of those numbers: {}'.format(storeNumbers))"
   ]
  },
  {
   "cell_type": "code",
   "execution_count": 5,
   "metadata": {},
   "outputs": [
    {
     "name": "stdout",
     "output_type": "stream",
     "text": [
      "Number has: \n",
      "8 times 2 \n",
      "3 times 5 \n",
      "\n",
      "The result will be found multiplying those numbers:\n",
      "-->  4 times 2 \n",
      "-->  Square of 5\n",
      "-->  1 times 5 \n"
     ]
    }
   ],
   "source": [
    "print('Number has: ')\n",
    "\n",
    "resulthigh = []\n",
    "resultlow = []\n",
    "resultNumberHigh = 1\n",
    "resultNumberLow = 1\n",
    "\n",
    "for each in range(len(root)):\n",
    "    print('{0} times {1} '.format(times[each], root[each]))\n",
    "\n",
    "    \n",
    "print('\\nThe result will be found multiplying those numbers:')   \n",
    "for each in range(len(root)):\n",
    "    if (times[each] % 2 == 1):\n",
    "        print('-->  Square of ' + str(int(root[each])) )\n",
    "        resultlow.append( int(root[each]) )\n",
    "        resultNumberLow = resultNumberLow * int(root[each])\n",
    "\n",
    "        if (times[each] != 1):\n",
    "            print('-->  {0} times {1} '.format(int(times[each]/2), root[each]))\n",
    "            resulthigh.append(root[each])\n",
    "            resultNumberHigh = resultNumberHigh * int(root[each]) * int(times[each]/2),\n",
    "\n",
    "    else :\n",
    "        print('-->  {0} times {1} '.format(int(times[each]/2), root[each]))\n",
    "        resulthigh.append(root[each])\n",
    "        resultNumberHigh = resultNumberHigh * int(root[each]) * int(times[each]/2)\n"
   ]
  },
  {
   "cell_type": "markdown",
   "metadata": {},
   "source": [
    "# Result"
   ]
  },
  {
   "cell_type": "code",
   "execution_count": 6,
   "metadata": {},
   "outputs": [
    {
     "name": "stdout",
     "output_type": "stream",
     "text": [
      "Result is : (40,) x square of 5\n"
     ]
    }
   ],
   "source": [
    "print('Result is : {0} x square of {1}'.format( resultNumberHigh , resultNumberLow ))"
   ]
  }
 ],
 "metadata": {
  "kernelspec": {
   "display_name": "Python 3",
   "language": "python",
   "name": "python3"
  },
  "language_info": {
   "codemirror_mode": {
    "name": "ipython",
    "version": 3
   },
   "file_extension": ".py",
   "mimetype": "text/x-python",
   "name": "python",
   "nbconvert_exporter": "python",
   "pygments_lexer": "ipython3",
   "version": "3.5.2"
  }
 },
 "nbformat": 4,
 "nbformat_minor": 2
}
